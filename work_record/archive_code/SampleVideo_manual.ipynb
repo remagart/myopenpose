{
 "cells": [
  {
   "cell_type": "code",
   "execution_count": 1,
   "metadata": {},
   "outputs": [
    {
     "name": "stdout",
     "output_type": "stream",
     "text": [
      "/openpose/build/examples/tutorial_api_python\n"
     ]
    }
   ],
   "source": [
    "# From Python\n",
    "# It requires OpenCV installed for Python\n",
    "\n",
    "from IPython.display import clear_output, Image, display, HTML\n",
    "import time\n",
    "\n",
    "import matplotlib.pyplot as plt\n",
    "import numpy as np\n",
    "\n",
    "import sys\n",
    "import cv2\n",
    "import os\n",
    "from sys import platform\n",
    "import argparse\n",
    "\n",
    "%matplotlib inline\n",
    "\n",
    "# Import Openpose (Windows/Ubuntu/OSX)\n",
    "dir_path = os.path.abspath(\"\")\n",
    "print(dir_path)"
   ]
  },
  {
   "cell_type": "code",
   "execution_count": 2,
   "metadata": {},
   "outputs": [
    {
     "name": "stdout",
     "output_type": "stream",
     "text": [
      "YESYES\n"
     ]
    }
   ],
   "source": [
    "try:\n",
    "    # Windows Import\n",
    "    if platform == \"win32\":\n",
    "        # Change these variables to point to the correct folder (Release/x64 etc.) \n",
    "        sys.path.append(dir_path + '/../../python/openpose/Release');\n",
    "        os.environ['PATH']  = os.environ['PATH'] + ';' + dir_path + '/../../x64/Release;' +  dir_path + '/../../bin;'\n",
    "        import pyopenpose as op\n",
    "        print(\"YES\")\n",
    "    else:\n",
    "        # Change these variables to point to the correct folder (Release/x64 etc.) \n",
    "        sys.path.append('../../python');\n",
    "        # If you run `make install` (default path is `/usr/local/python` for Ubuntu), you can also access the OpenPose/python module from there. This will install OpenPose and the python library at your desired installation path. Ensure that this is in your python path in order to use it.\n",
    "        # sys.path.append('/usr/local/python')\n",
    "        from openpose import pyopenpose as op\n",
    "        print(\"YESYES\")\n",
    "except ImportError as e:\n",
    "    print('Error: OpenPose library could not be found. Did you enable `BUILD_PYTHON` in CMake and have this Python script in the right folder?')\n",
    "    raise e\n",
    "\n"
   ]
  },
  {
   "cell_type": "code",
   "execution_count": 3,
   "metadata": {},
   "outputs": [],
   "source": [
    "# Flags\n",
    "parser = argparse.ArgumentParser()\n",
    "# parser.add_argument(\"--image_path\", default=\"../../../examples/media/COCO_val2014_000000000192.jpg\", help=\"Process an image. Read all standard formats (jpg, png, bmp, etc.).\")\n",
    "# parser.add_argument(\"--image_path\", default=\"../../../examples/media/video.avi\", help=\"Process an image. Read all standard formats (jpg, png, bmp, etc.).\")\n",
    "# parser.add_argument(\"--video\", default=\"../../../examples/media/video.avi\", help=\"Process an image. Read all standard formats (jpg, png, bmp, etc.).\")\n",
    "parser.add_argument(\"--video\", default=\"../../../examples/media/myrb.mp4\", help=\"Process an image. Read all standard formats (jpg, png, bmp, etc.).\")\n",
    "\n",
    "args = parser.parse_known_args()\n",
    "\n"
   ]
  },
  {
   "cell_type": "code",
   "execution_count": 4,
   "metadata": {},
   "outputs": [
    {
     "name": "stdout",
     "output_type": "stream",
     "text": [
      "{'model_folder': '../../../models/', 'hand': True, 'hand_detector': 2, 'body': 0}\n"
     ]
    }
   ],
   "source": [
    "# Custom Params (refer to include/openpose/flags.hpp for more parameters)\n",
    "params = dict()\n",
    "params[\"model_folder\"] = \"../../../models/\"\n",
    "# params[\"video\"] = True\n",
    "params[\"hand\"] = True\n",
    "params[\"hand_detector\"] = 2\n",
    "params[\"body\"] = 0\n",
    "\n",
    "\n",
    "# Add others in path?\n",
    "for i in range(0, len(args[1])):\n",
    "    curr_item = args[1][i]\n",
    "    if i != len(args[1])-1: next_item = args[1][i+1]\n",
    "    else: next_item = \"1\"\n",
    "    if \"--\" in curr_item and \"--\" in next_item:\n",
    "        key = curr_item.replace('-','')\n",
    "        if key not in params:  params[key] = \"1\"\n",
    "    elif \"--\" in curr_item and \"--\" not in next_item:\n",
    "        key = curr_item.replace('-','')\n",
    "        if key not in params: params[key] = next_item\n",
    "print(params)\n"
   ]
  },
  {
   "cell_type": "code",
   "execution_count": 5,
   "metadata": {},
   "outputs": [],
   "source": [
    "def arrayShow(img):\n",
    "    _,ret = cv2.imencode('.jpg', img) \n",
    "    return Image(data=ret) "
   ]
  },
  {
   "cell_type": "code",
   "execution_count": 6,
   "metadata": {},
   "outputs": [],
   "source": [
    "# Construct it from system arguments\n",
    "# op.init_argv(args[1])\n",
    "# oppython = op.OpenposePython()\n",
    "\n",
    "# Starting OpenPose\n",
    "opWrapper = op.WrapperPython()\n",
    "opWrapper.configure(params)\n",
    "opWrapper.start()\n",
    "\n"
   ]
  },
  {
   "cell_type": "code",
   "execution_count": 7,
   "metadata": {},
   "outputs": [],
   "source": [
    "# 自訂手部偵測範圍\n",
    "\n",
    "handRectangles = [\n",
    "    [\n",
    "    op.Rectangle(40, 100,150, 150),\n",
    "    op.Rectangle(120, 100,150, 150),\n",
    "    ]\n",
    "]\n",
    "\n",
    "# handRectangles = [\n",
    "#     [\n",
    "#     op.Rectangle(30, 150,120, 120),\n",
    "#     op.Rectangle(120, 100,150, 150),\n",
    "#     ]\n",
    "# ]\n",
    "\n"
   ]
  },
  {
   "cell_type": "code",
   "execution_count": 8,
   "metadata": {},
   "outputs": [
    {
     "data": {
      "image/png": "[encoded data removed]",
      "text/plain": [
       "<IPython.core.display.Image object>"
      ]
     },
     "metadata": {},
     "output_type": "display_data"
    },
    {
     "name": "stdout",
     "output_type": "stream",
     "text": [
      "OKOK\n",
      "OKOK\n"
     ]
    }
   ],
   "source": [
    "cap = cv2.VideoCapture(args[0].video)\n",
    "datum = op.Datum()\n",
    "datum.handRectangles = handRectangles\n",
    "\n",
    "print(datum)\n",
    "while(True):\n",
    "    try:\n",
    "        \n",
    "        ret, frame = cap.read()\n",
    "        if not ret:\n",
    "                break\n",
    "        clear_output(wait=True)\n",
    "        \n",
    "        w,h,_ = frame.shape\n",
    "#         matrix = cv2.getRotationMatrix2D((h/2, w/2),0,1)\n",
    "#         frame = cv2.warpAffine(frame, matrix, (h, w))\n",
    "\n",
    "#         matrix = np.float32([[1,0,200],[0,1,500]])\n",
    "#         frame = cv2.warpAffine(frame,matrix,(h,w))\n",
    "        \n",
    "        # w: 250 h: 300\n",
    "        pts1 = np.float32([[150,100],[400,100],[150,400],[400,400]])\n",
    "        pts2 = np.float32([[0,0],[250,0],[0,300],[250,300]])\n",
    "        matrix = cv2.getPerspectiveTransform(pts1,pts2)\n",
    "        frame = cv2.warpPerspective(frame,matrix,(250,300))\n",
    "\n",
    "        datum.cvInputData = frame\n",
    "        opWrapper.emplaceAndPop([datum])\n",
    "\n",
    "        \n",
    "\n",
    "        # 手部框框\n",
    "        datum.cvOutputData = cv2.rectangle(datum.cvOutputData,(40, 100),(190,250),(255,0,0),3)\n",
    "        datum.cvOutputData = cv2.rectangle(datum.cvOutputData,(120, 100),(270,250),(0,255,0),3)\n",
    "        \n",
    "        \n",
    "        img = arrayShow(datum.cvOutputData)\n",
    "        display(img)\n",
    "        print(\"OKOK\")\n",
    "        \n",
    "#         plt.imshow(datum.cvOutputData)\n",
    "#         plt.show()\n",
    "#         cv2.waitKey(0)\n",
    "    except KeyboardInterrupt:\n",
    "        print(\"exception\")\n",
    "        video.release()\n",
    "print(\"OKOK\")"
   ]
  },
  {
   "cell_type": "code",
   "execution_count": null,
   "metadata": {},
   "outputs": [],
   "source": []
  },
  {
   "cell_type": "code",
   "execution_count": null,
   "metadata": {},
   "outputs": [],
   "source": []
  }
 ],
 "metadata": {
  "kernelspec": {
   "display_name": "Python 3",
   "language": "python",
   "name": "python3"
  },
  "language_info": {
   "codemirror_mode": {
    "name": "ipython",
    "version": 3
   },
   "file_extension": ".py",
   "mimetype": "text/x-python",
   "name": "python",
   "nbconvert_exporter": "python",
   "pygments_lexer": "ipython3",
   "version": "3.6.7"
  }
 },
 "nbformat": 4,
 "nbformat_minor": 2
}
