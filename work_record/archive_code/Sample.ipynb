{
 "cells": [
  {
   "cell_type": "code",
   "execution_count": 1,
   "metadata": {},
   "outputs": [
    {
     "name": "stdout",
     "output_type": "stream",
     "text": [
      "/openpose/build/examples/tutorial_api_python\n"
     ]
    }
   ],
   "source": [
    "# From Python\n",
    "# It requires OpenCV installed for Python\n",
    "\n",
    "import matplotlib.pyplot as plt\n",
    "import numpy as np\n",
    "\n",
    "import sys\n",
    "import cv2\n",
    "import os\n",
    "from sys import platform\n",
    "import argparse\n",
    "\n",
    "# Import Openpose (Windows/Ubuntu/OSX)\n",
    "# dir_path = os.path.dirname(os.path.realpath(__file__))\n",
    "dir_path = os.path.abspath(\"\")\n",
    "print(dir_path)\n",
    "\n"
   ]
  },
  {
   "cell_type": "code",
   "execution_count": 2,
   "metadata": {},
   "outputs": [],
   "source": [
    "try:\n",
    "    # Windows Import\n",
    "    if platform == \"win32\":\n",
    "        # Change these variables to point to the correct folder (Release/x64 etc.) \n",
    "        sys.path.append(dir_path + '/../../python/openpose/Release');\n",
    "        os.environ['PATH']  = os.environ['PATH'] + ';' + dir_path + '/../../x64/Release;' +  dir_path + '/../../bin;'\n",
    "        import pyopenpose as op\n",
    "    else:\n",
    "        # Change these variables to point to the correct folder (Release/x64 etc.) \n",
    "        sys.path.append('../../python');\n",
    "        # If you run `make install` (default path is `/usr/local/python` for Ubuntu), you can also access the OpenPose/python module from there. This will install OpenPose and the python library at your desired installation path. Ensure that this is in your python path in order to use it.\n",
    "        # sys.path.append('/usr/local/python')\n",
    "        from openpose import pyopenpose as op\n",
    "except ImportError as e:\n",
    "    print('Error: OpenPose library could not be found. Did you enable `BUILD_PYTHON` in CMake and have this Python script in the right folder?')\n",
    "    raise e\n",
    "\n"
   ]
  },
  {
   "cell_type": "code",
   "execution_count": 3,
   "metadata": {},
   "outputs": [],
   "source": [
    "# Flags\n",
    "parser = argparse.ArgumentParser()\n",
    "parser.add_argument(\"--image_path\", default=\"../../../examples/media/COCO_val2014_000000000192.jpg\", help=\"Process an image. Read all standard formats (jpg, png, bmp, etc.).\")\n",
    "args = parser.parse_known_args()\n",
    "\n",
    "# Custom Params (refer to include/openpose/flags.hpp for more parameters)\n",
    "params = dict()\n",
    "params[\"model_folder\"] = \"../../../models/\"\n",
    "\n",
    "# Add others in path?\n",
    "for i in range(0, len(args[1])):\n",
    "    curr_item = args[1][i]\n",
    "    if i != len(args[1])-1: next_item = args[1][i+1]\n",
    "    else: next_item = \"1\"\n",
    "    if \"--\" in curr_item and \"--\" in next_item:\n",
    "        key = curr_item.replace('-','')\n",
    "        if key not in params:  params[key] = \"1\"\n",
    "    elif \"--\" in curr_item and \"--\" not in next_item:\n",
    "        key = curr_item.replace('-','')\n",
    "        if key not in params: params[key] = next_item\n",
    "\n",
    "# Construct it from system arguments\n",
    "# op.init_argv(args[1])\n",
    "# oppython = op.OpenposePython()\n",
    "\n"
   ]
  },
  {
   "cell_type": "code",
   "execution_count": 4,
   "metadata": {},
   "outputs": [
    {
     "ename": "RuntimeError",
     "evalue": "\nError:\nNo camera found.\n\nComing from:\n- /openpose/src/openpose/producer/producer.cpp:createProducer():460\n- /openpose/src/openpose/producer/producer.cpp:createProducer():471\n- /openpose/include/openpose/wrapper/wrapperAuxiliary.hpp:configureThreadManager():1118\n- /openpose/include/openpose/wrapper/wrapper.hpp:exec():424\n",
     "output_type": "error",
     "traceback": [
      "\u001b[0;31m---------------------------------------------------------------------------\u001b[0m",
      "\u001b[0;31mRuntimeError\u001b[0m                              Traceback (most recent call last)",
      "\u001b[0;32m<ipython-input-4-ccb77014bd80>\u001b[0m in \u001b[0;36m<module>\u001b[0;34m\u001b[0m\n\u001b[1;32m      2\u001b[0m \u001b[0mopWrapper\u001b[0m \u001b[0;34m=\u001b[0m \u001b[0mop\u001b[0m\u001b[0;34m.\u001b[0m\u001b[0mWrapperPython\u001b[0m\u001b[0;34m(\u001b[0m\u001b[0;36m3\u001b[0m\u001b[0;34m)\u001b[0m\u001b[0;34m\u001b[0m\u001b[0;34m\u001b[0m\u001b[0m\n\u001b[1;32m      3\u001b[0m \u001b[0mopWrapper\u001b[0m\u001b[0;34m.\u001b[0m\u001b[0mconfigure\u001b[0m\u001b[0;34m(\u001b[0m\u001b[0mparams\u001b[0m\u001b[0;34m)\u001b[0m\u001b[0;34m\u001b[0m\u001b[0;34m\u001b[0m\u001b[0m\n\u001b[0;32m----> 4\u001b[0;31m \u001b[0mopWrapper\u001b[0m\u001b[0;34m.\u001b[0m\u001b[0mexecute\u001b[0m\u001b[0;34m(\u001b[0m\u001b[0;34m)\u001b[0m\u001b[0;34m\u001b[0m\u001b[0;34m\u001b[0m\u001b[0m\n\u001b[0m\u001b[1;32m      5\u001b[0m \u001b[0mprint\u001b[0m\u001b[0;34m(\u001b[0m\u001b[0;34m\"OKOK\"\u001b[0m\u001b[0;34m)\u001b[0m\u001b[0;34m\u001b[0m\u001b[0;34m\u001b[0m\u001b[0m\n",
      "\u001b[0;31mRuntimeError\u001b[0m: \nError:\nNo camera found.\n\nComing from:\n- /openpose/src/openpose/producer/producer.cpp:createProducer():460\n- /openpose/src/openpose/producer/producer.cpp:createProducer():471\n- /openpose/include/openpose/wrapper/wrapperAuxiliary.hpp:configureThreadManager():1118\n- /openpose/include/openpose/wrapper/wrapper.hpp:exec():424\n"
     ]
    }
   ],
   "source": [
    "# Starting OpenPose\n",
    "opWrapper = op.WrapperPython(3)\n",
    "opWrapper.configure(params)\n",
    "opWrapper.execute()\n",
    "print(\"OKOK\")"
   ]
  },
  {
   "cell_type": "code",
   "execution_count": null,
   "metadata": {},
   "outputs": [],
   "source": []
  },
  {
   "cell_type": "code",
   "execution_count": null,
   "metadata": {},
   "outputs": [],
   "source": []
  }
 ],
 "metadata": {
  "kernelspec": {
   "display_name": "Python 3",
   "language": "python",
   "name": "python3"
  },
  "language_info": {
   "codemirror_mode": {
    "name": "ipython",
    "version": 3
   },
   "file_extension": ".py",
   "mimetype": "text/x-python",
   "name": "python",
   "nbconvert_exporter": "python",
   "pygments_lexer": "ipython3",
   "version": "3.6.7"
  }
 },
 "nbformat": 4,
 "nbformat_minor": 2
}
